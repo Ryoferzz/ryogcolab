{
  "nbformat": 4,
  "nbformat_minor": 0,
  "metadata": {
    "colab": {
      "name": "Tugas DCDG ML Rock Ppr Scsr.ipynb",
      "provenance": [],
      "authorship_tag": "ABX9TyNihmHjmBk0+dQ3q6yReiEr",
      "include_colab_link": true
    },
    "kernelspec": {
      "name": "python3",
      "display_name": "Python 3"
    },
    "language_info": {
      "name": "python"
    }
  },
  "cells": [
    {
      "cell_type": "markdown",
      "metadata": {
        "id": "view-in-github",
        "colab_type": "text"
      },
      "source": [
        "<a href=\"https://colab.research.google.com/github/Ryoferzz/ryogcolab/blob/main/Tugas_DCDG_ML_Rock_Ppr_Scsr.ipynb\" target=\"_parent\"><img src=\"https://colab.research.google.com/assets/colab-badge.svg\" alt=\"Open In Colab\"/></a>"
      ]
    },
    {
      "cell_type": "code",
      "execution_count": null,
      "metadata": {
        "id": "Cq7wEtxjzLDi"
      },
      "outputs": [],
      "source": [
        ""
      ]
    }
  ]
}